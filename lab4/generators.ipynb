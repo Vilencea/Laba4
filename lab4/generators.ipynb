{
 "cells": [
  {
   "cell_type": "code",
   "execution_count": 2,
   "id": "189e9518-47c8-459b-9f16-64aec50287bc",
   "metadata": {},
   "outputs": [
    {
     "name": "stdout",
     "output_type": "stream",
     "text": [
      "Squares= 7 : [0, 1, 4, 9, 16, 25, 36, 49]\n"
     ]
    }
   ],
   "source": [
    "def generator(N):\n",
    "    for i in range(N + 1):\n",
    "        yield i**2\n",
    "N =7\n",
    "print(\"Squares=\",N,\":\",list(generator(N)))"
   ]
  },
  {
   "cell_type": "code",
   "execution_count": 5,
   "id": "a54fcddc-1c7a-4929-99b3-74ad21476c7c",
   "metadata": {},
   "outputs": [
    {
     "name": "stdin",
     "output_type": "stream",
     "text": [
      " 30\n"
     ]
    },
    {
     "name": "stdout",
     "output_type": "stream",
     "text": [
      "Even 30 : [0, 2, 4, 6, 8, 10, 12, 14, 16, 18, 20, 22, 24, 26, 28, 30]\n"
     ]
    }
   ],
   "source": [
    "def generator(n):\n",
    "    for i in range(0,n+1):\n",
    "        if(i%2==0):\n",
    "            yield i\n",
    "n =int(input())\n",
    "print(\"Even\",n,\":\",list(generator(n)))"
   ]
  },
  {
   "cell_type": "code",
   "execution_count": 9,
   "id": "46c545a0-99e9-4763-9b32-4f51df7bf94e",
   "metadata": {},
   "outputs": [
    {
     "name": "stdin",
     "output_type": "stream",
     "text": [
      " 30\n"
     ]
    },
    {
     "name": "stdout",
     "output_type": "stream",
     "text": [
      "Div 3 and 4:\n",
      "0\n",
      "12\n",
      "24\n"
     ]
    }
   ],
   "source": [
    "def generator(n):\n",
    "    for i in range(0,n+1):\n",
    "        if(i%3==0 and i%4==0):\n",
    "            yield i\n",
    "n =int(input())\n",
    "print(\"Div 3 and 4:\")\n",
    "m=generator(n)\n",
    "for x in m:\n",
    "    print(x)"
   ]
  },
  {
   "cell_type": "code",
   "execution_count": 11,
   "id": "c025472d-f1f0-4f06-b4c8-7fbd86d7903c",
   "metadata": {},
   "outputs": [
    {
     "name": "stdin",
     "output_type": "stream",
     "text": [
      " 1\n",
      " 5\n"
     ]
    },
    {
     "name": "stdout",
     "output_type": "stream",
     "text": [
      "1\n",
      "4\n",
      "9\n",
      "16\n",
      "25\n"
     ]
    }
   ],
   "source": [
    "def squares(a,b):\n",
    "    for i in range(a,b+1):\n",
    "            yield i**2\n",
    "a =int(input())\n",
    "b =int(input())\n",
    "m=squares(a,b)\n",
    "for x in m:\n",
    "    print(x)"
   ]
  },
  {
   "cell_type": "code",
   "execution_count": 13,
   "id": "fa2e8a9b-b809-4ca4-9e89-f943216221c5",
   "metadata": {},
   "outputs": [
    {
     "name": "stdin",
     "output_type": "stream",
     "text": [
      " 13\n"
     ]
    },
    {
     "name": "stdout",
     "output_type": "stream",
     "text": [
      "All from 13 to 0: [13, 12, 11, 10, 9, 8, 7, 6, 5, 4, 3, 2, 1, 0]\n"
     ]
    }
   ],
   "source": [
    "def generator(n):\n",
    "    for i in range(n,-1,-1):\n",
    "            yield i\n",
    "n =int(input())\n",
    "print(\"All from\",n,\"to 0:\",list(generator(n)))"
   ]
  }
 ],
 "metadata": {
  "kernelspec": {
   "display_name": "Python 3 (ipykernel)",
   "language": "python",
   "name": "python3"
  },
  "language_info": {
   "codemirror_mode": {
    "name": "ipython",
    "version": 3
   },
   "file_extension": ".py",
   "mimetype": "text/x-python",
   "name": "python",
   "nbconvert_exporter": "python",
   "pygments_lexer": "ipython3",
   "version": "3.12.7"
  }
 },
 "nbformat": 4,
 "nbformat_minor": 5
}
