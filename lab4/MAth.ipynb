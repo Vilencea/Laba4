{
 "cells": [
  {
   "cell_type": "code",
   "execution_count": 3,
   "id": "27441aec-1759-492e-86af-73f698e4fb9a",
   "metadata": {},
   "outputs": [
    {
     "name": "stdout",
     "output_type": "stream",
     "text": [
      "degree to Radian: 0.2617993877991494\n"
     ]
    }
   ],
   "source": [
    "import math\n",
    "x=math.pi\n",
    "def radi(d):\n",
    "    print(\"degree to Radian:\",(d*x)/180)\n",
    "d=15\n",
    "radi(d)"
   ]
  },
  {
   "cell_type": "code",
   "execution_count": 9,
   "id": "c2d8d595-3d5c-488b-9fd8-fa2fd6a6120f",
   "metadata": {},
   "outputs": [
    {
     "name": "stdin",
     "output_type": "stream",
     "text": [
      "height:  5\n",
      "first base:  5\n",
      "second base:  6\n"
     ]
    },
    {
     "name": "stdout",
     "output_type": "stream",
     "text": [
      "the Area: 27.5\n"
     ]
    }
   ],
   "source": [
    "def trapezoid(height, base1, base2):\n",
    "    return ((base1 + base2)*height)/2\n",
    "height =float(input(\"height: \"))\n",
    "base1 = float(input(\"first base: \"))\n",
    "base2 =float(input(\"second base: \"))\n",
    "area = trapezoid(height, base1, base2)\n",
    "\n",
    "print(\"the Area:\", area)"
   ]
  },
  {
   "cell_type": "code",
   "execution_count": 8,
   "id": "53f55ca9-af95-4360-a903-5b30734ae8e6",
   "metadata": {},
   "outputs": [
    {
     "name": "stdin",
     "output_type": "stream",
     "text": [
      "number of sides:  4\n",
      "length of a side: 25\n"
     ]
    },
    {
     "name": "stdout",
     "output_type": "stream",
     "text": [
      "The area: 625\n"
     ]
    }
   ],
   "source": [
    "import math\n",
    "def polygon(sides, length):\n",
    "    return (sides * length**2) / (4* math.tan(math.pi / sides))\n",
    "\n",
    "sides = int(input(\"number of sides: \"))\n",
    "length = float(input(\"length of a side:\"))\n",
    "area = polygon(sides, length)\n",
    "\n",
    "print(\"The area:\", math.floor(area))"
   ]
  },
  {
   "cell_type": "code",
   "execution_count": 10,
   "id": "b1280b88-160e-4bf9-901a-b5d163a9da61",
   "metadata": {},
   "outputs": [
    {
     "name": "stdin",
     "output_type": "stream",
     "text": [
      "length: 5\n",
      "height: 6\n"
     ]
    },
    {
     "name": "stdout",
     "output_type": "stream",
     "text": [
      "the area: 30.0\n"
     ]
    }
   ],
   "source": [
    "def parallelogram(base, height):\n",
    "    return base * height\n",
    "base = float(input(\"length:\"))\n",
    "height = float(input(\"height:\"))\n",
    "area = parallelogram(base, height)\n",
    "\n",
    "print(\"the area:\", area)"
   ]
  }
 ],
 "metadata": {
  "kernelspec": {
   "display_name": "Python 3 (ipykernel)",
   "language": "python",
   "name": "python3"
  },
  "language_info": {
   "codemirror_mode": {
    "name": "ipython",
    "version": 3
   },
   "file_extension": ".py",
   "mimetype": "text/x-python",
   "name": "python",
   "nbconvert_exporter": "python",
   "pygments_lexer": "ipython3",
   "version": "3.12.7"
  }
 },
 "nbformat": 4,
 "nbformat_minor": 5
}
