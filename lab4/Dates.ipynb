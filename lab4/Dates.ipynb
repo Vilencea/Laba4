{
 "cells": [
  {
   "cell_type": "markdown",
   "id": "d1d676ec-3040-4fcc-8fdd-ca23cee68437",
   "metadata": {},
   "source": [
    "Ex 1 or print(new_date.strftime('%Y-%m-%d'))"
   ]
  },
  {
   "cell_type": "code",
   "execution_count": 8,
   "id": "fe1c7e52-deab-4204-be7c-df6c290bb604",
   "metadata": {},
   "outputs": [
    {
     "name": "stdout",
     "output_type": "stream",
     "text": [
      "2025-02-07 17:40:43.986807\n"
     ]
    }
   ],
   "source": [
    "from datetime import datetime, timedelta\n",
    "new_date = datetime.now() - timedelta(days=5)\n",
    "\n",
    "print(new_date)"
   ]
  },
  {
   "cell_type": "code",
   "execution_count": 11,
   "id": "b275b30f-7e8a-4f21-861f-3265c39b738f",
   "metadata": {},
   "outputs": [
    {
     "name": "stdout",
     "output_type": "stream",
     "text": [
      "Today: 2025-02-12 Yesterday: 2025-02-11 Tomorrow: 2025-02-13\n"
     ]
    }
   ],
   "source": [
    "from datetime import datetime, timedelta\n",
    "x= datetime.now()\n",
    "y=datetime.now() - timedelta(days=1)\n",
    "z=datetime.now() + timedelta(days=1)\n",
    "\n",
    "print(\"Today:\",x.strftime('%Y-%m-%d'),\"Yesterday:\",y.strftime('%Y-%m-%d'),\"Tomorrow:\",z.strftime('%Y-%m-%d'))"
   ]
  },
  {
   "cell_type": "code",
   "execution_count": 13,
   "id": "211c95e6-8438-416c-8500-0ea7dd6c44ad",
   "metadata": {},
   "outputs": [
    {
     "name": "stdout",
     "output_type": "stream",
     "text": [
      "No microseconds: 2025-02-12 17:47:04\n"
     ]
    }
   ],
   "source": [
    "from datetime import datetime\n",
    "current_date = datetime.now().replace(microsecond=0)\n",
    "\n",
    "print(\"No microseconds:\", current_date)"
   ]
  },
  {
   "cell_type": "markdown",
   "id": "7014f115-6855-40bc-b909-1b4e26f3fdca",
   "metadata": {},
   "source": [
    "For input: data1=datetime.strptime(inp_str, \"%Y-%m-%d %H:%M:%S\") to this formaat YYYY-MM-DD HH:MM:SS"
   ]
  },
  {
   "cell_type": "code",
   "execution_count": 15,
   "id": "d155fabf-dcc7-4889-bcbc-c7e7bf3555d7",
   "metadata": {},
   "outputs": [
    {
     "name": "stdout",
     "output_type": "stream",
     "text": [
      "Difference: 441000.0\n"
     ]
    }
   ],
   "source": [
    "from datetime import datetime\n",
    "date1 = datetime(2024, 2, 10, 12, 0, 0)\n",
    "date2 = datetime(2024, 2, 15, 14, 30, 0)\n",
    "seconds = (date2 - date1).total_seconds()\n",
    "\n",
    "print(\"Difference:\",seconds)"
   ]
  }
 ],
 "metadata": {
  "kernelspec": {
   "display_name": "Python 3 (ipykernel)",
   "language": "python",
   "name": "python3"
  },
  "language_info": {
   "codemirror_mode": {
    "name": "ipython",
    "version": 3
   },
   "file_extension": ".py",
   "mimetype": "text/x-python",
   "name": "python",
   "nbconvert_exporter": "python",
   "pygments_lexer": "ipython3",
   "version": "3.12.7"
  }
 },
 "nbformat": 4,
 "nbformat_minor": 5
}
