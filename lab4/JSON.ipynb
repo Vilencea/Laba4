{
 "cells": [
  {
   "cell_type": "code",
   "execution_count": 3,
   "id": "e8342468-1df5-44ca-a62f-8211d7f98c7a",
   "metadata": {},
   "outputs": [
    {
     "name": "stdout",
     "output_type": "stream",
     "text": [
      "Interface    | Admin State | Speed    | MTU   | Switching State\n",
      "------------------------------------------------------------\n",
      "eth1/33      | up          | inherit  | 9150  | disabled\n",
      "eth1/34      | up          | inherit  | 9150  | disabled\n",
      "eth1/35      | up          | inherit  | 9150  | disabled\n",
      "eth1/36      | up          | inherit  | 9150  | disabled\n",
      "eth1/1       | up          | inherit  | 9150  | enabled\n",
      "eth1/2       | up          | inherit  | 9150  | enabled\n",
      "eth1/3       | up          | inherit  | 9150  | enabled\n",
      "eth1/4       | up          | inherit  | 9150  | enabled\n",
      "eth1/5       | up          | inherit  | 9150  | disabled\n",
      "eth1/6       | up          | inherit  | 9150  | disabled\n",
      "eth1/7       | up          | inherit  | 9150  | disabled\n",
      "eth1/8       | up          | inherit  | 9150  | disabled\n",
      "eth1/9       | up          | inherit  | 9150  | disabled\n",
      "eth1/10      | up          | inherit  | 9150  | disabled\n",
      "eth1/11      | up          | inherit  | 9150  | disabled\n",
      "eth1/12      | up          | inherit  | 9150  | disabled\n",
      "eth1/13      | up          | inherit  | 9150  | disabled\n",
      "eth1/14      | up          | inherit  | 9150  | disabled\n"
     ]
    }
   ],
   "source": [
    "import json\n",
    "with open(\"sample-data.json\", \"r\") as file:\n",
    "    data = json.load(file)\n",
    "print(f\"{'Interface':<12} | {'Admin State':<11} | {'Speed':<8} | {'MTU':<5} | {'Switching State'}\")\n",
    "print(\"-\" * 60)\n",
    "for item in data[\"imdata\"]:\n",
    "    attributes = item[\"l1PhysIf\"][\"attributes\"]\n",
    "    interface = attributes[\"id\"]\n",
    "    admin_state = attributes[\"adminSt\"]\n",
    "    speed = attributes[\"speed\"]\n",
    "    mtu = attributes[\"mtu\"]\n",
    "    switching_state = attributes[\"switchingSt\"]\n",
    "    \n",
    "    print(f\"{interface:<12} | {admin_state:<11} | {speed:<8} | {mtu:<5} | {switching_state}\")"
   ]
  },
  {
   "cell_type": "code",
   "execution_count": null,
   "id": "365a1b7d-028f-45b6-a401-221e6608c565",
   "metadata": {},
   "outputs": [],
   "source": []
  }
 ],
 "metadata": {
  "kernelspec": {
   "display_name": "Python 3 (ipykernel)",
   "language": "python",
   "name": "python3"
  },
  "language_info": {
   "codemirror_mode": {
    "name": "ipython",
    "version": 3
   },
   "file_extension": ".py",
   "mimetype": "text/x-python",
   "name": "python",
   "nbconvert_exporter": "python",
   "pygments_lexer": "ipython3",
   "version": "3.12.7"
  }
 },
 "nbformat": 4,
 "nbformat_minor": 5
}
